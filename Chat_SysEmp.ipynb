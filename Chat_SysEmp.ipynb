{
  "nbformat": 4,
  "nbformat_minor": 0,
  "metadata": {
    "colab": {
      "provenance": [],
      "authorship_tag": "ABX9TyNbs7YFrxiTwwS3yCJDVR0U",
      "include_colab_link": true
    },
    "kernelspec": {
      "name": "python3",
      "display_name": "Python 3"
    },
    "language_info": {
      "name": "python"
    }
  },
  "cells": [
    {
      "cell_type": "markdown",
      "metadata": {
        "id": "view-in-github",
        "colab_type": "text"
      },
      "source": [
        "<a href=\"https://colab.research.google.com/github/ClaytonFullStack/Projeto_ImersaoIA/blob/main/Chat_SysEmp.ipynb\" target=\"_parent\"><img src=\"https://colab.research.google.com/assets/colab-badge.svg\" alt=\"Open In Colab\"/></a>"
      ]
    },
    {
      "cell_type": "markdown",
      "source": [
        "Instale a biblioteca google-generativeai"
      ],
      "metadata": {
        "id": "01Hl3r_rcyVd"
      }
    },
    {
      "cell_type": "code",
      "execution_count": 1,
      "metadata": {
        "id": "hmvRL4pSckpH"
      },
      "outputs": [],
      "source": [
        "!pip install -q -U google-generativeai"
      ]
    },
    {
      "cell_type": "code",
      "source": [
        "!pip install flask"
      ],
      "metadata": {
        "id": "x9s85F08wbnw"
      },
      "execution_count": null,
      "outputs": []
    },
    {
      "cell_type": "markdown",
      "source": [
        "Configure a API Key:"
      ],
      "metadata": {
        "id": "B-S0wD6xdW6O"
      }
    },
    {
      "cell_type": "code",
      "source": [
        "import google.generativeai as genai\n",
        "from google.colab import userdata\n",
        "api_key = userdata.get('SECRET_KEY')\n",
        "genai.configure(api_key=api_key)"
      ],
      "metadata": {
        "id": "bPsXPGCnlfZW"
      },
      "execution_count": 22,
      "outputs": []
    },
    {
      "cell_type": "code",
      "source": [
        "# Configurações de geração\n",
        "generation_config = {\n",
        "    \"candidate_count\": 1,\n",
        "    \"temperature\": 0.5\n",
        "}"
      ],
      "metadata": {
        "id": "LZ0IpVn6ma5x"
      },
      "execution_count": 23,
      "outputs": []
    },
    {
      "cell_type": "code",
      "source": [
        "# Configurações de segurança\n",
        "safety_settings = {\n",
        "    \"HATE\": \"BLOCK_NONE\",\n",
        "    \"SEXUAL\": \"BLOCK_NONE\",\n",
        "    \"DANGEROUS\": \"BLOCK_NONE\"\n",
        "}"
      ],
      "metadata": {
        "id": "CBQMdEjtmdjB"
      },
      "execution_count": 25,
      "outputs": []
    },
    {
      "cell_type": "code",
      "source": [
        "# Listar os modelos disponíveis\n",
        "for m in genai.list_models():\n",
        "    if 'generateContent' in m.supported_generation_methods:\n",
        "        print(m.name)"
      ],
      "metadata": {
        "id": "iq2FD_-Ym95t"
      },
      "execution_count": null,
      "outputs": []
    },
    {
      "cell_type": "code",
      "source": [
        "model = genai.GenerativeModel(model_name='gemini-1.0-pro', generation_config=generation_config, safety_settings=safety_settings)"
      ],
      "metadata": {
        "id": "LPBE8gulmk5V"
      },
      "execution_count": 26,
      "outputs": []
    },
    {
      "cell_type": "code",
      "source": [
        "chat = model.start_chat(history=[])"
      ],
      "metadata": {
        "id": "dcdOp5RXmtix"
      },
      "execution_count": 27,
      "outputs": []
    },
    {
      "cell_type": "code",
      "source": [
        "# Treinamento do chatbot\n",
        "training_data = [\n",
        "    (\"Qual é o horário de funcionamento da loja?\", \"Nossa loja funciona de segunda a sexta, das 9h às 18h, e aos sábados das 9h às 13h.\"),\n",
        "    (\"Como faço para agendar um atendimento?\", \"Você pode agendar um atendimento ligando para o nosso número ou acessando o nosso site.\"),\n",
        "    (\"Quais são os produtos disponíveis para venda?\", \"Temos uma variedade de produtos disponíveis, incluindo eletrônicos, roupas, eletrodomésticos e muito mais. Você pode conferir o catálogo completo em nosso site.\"),\n",
        "    (\"Posso devolver um produto que comprei?\", \"Sim, você pode devolver um produto dentro do prazo estabelecido em nossa política de devolução. Entre em contato conosco para mais informações.\")\n",
        "]\n",
        "\n",
        "# Treinamento do modelo com os exemplos\n",
        "for question, answer in training_data:\n",
        "    response = model.generate_content(question)\n",
        "    print(\"Pergunta:\", question)\n",
        "    print(\"Resposta gerada pelo modelo:\", response.text)\n",
        "    print(\"Resposta esperada:\", answer)\n",
        "    print(\"----------------------------------\")"
      ],
      "metadata": {
        "id": "ipp19_CcqR_3"
      },
      "execution_count": null,
      "outputs": []
    },
    {
      "cell_type": "code",
      "source": [
        "prompt = input(\"Olá sou a SysLab, em que posso ajuda-lo: \")\n",
        "\n",
        "while prompt != \"fim\":\n",
        "  response = chat.send_message(prompt)\n",
        "  print(\"Resposta: \", response.text, \"\\n\")\n",
        "  print(\"----------------------------------\")\n",
        "  prompt = input(\"Mais alguma questão que posso ajuda-lo?: \")"
      ],
      "metadata": {
        "colab": {
          "base_uri": "https://localhost:8080/",
          "height": 260
        },
        "id": "GEmjklADnTce",
        "outputId": "f2dd2d93-7952-4312-8242-4ba7147acbe7"
      },
      "execution_count": 44,
      "outputs": [
        {
          "name": "stdout",
          "output_type": "stream",
          "text": [
            "Olá sou a SysLab, em que posso ajuda-lo: Qual o valor do notebook samsung\n",
            "Resposta:  O preço dos notebooks Samsung varia dependendo do modelo, configuração e local de compra. Aqui estão alguns preços aproximados no Brasil:\n",
            "\n",
            "**Samsung Book X30:** R$ 4.999,00\n",
            "**Samsung Book Pro 360:** R$ 6.999,00\n",
            "**Samsung Galaxy Book2 Pro 360:** R$ 10.999,00\n",
            "\n",
            "**Observações:**\n",
            "\n",
            "* Os preços podem variar de acordo com a loja e promoções vigentes.\n",
            "* Recomenda-se verificar o site ou entrar em contato com a loja local para obter informações mais atualizadas. \n",
            "\n",
            "----------------------------------\n",
            "Mais alguma questão que posso ajuda-lo?: fim\n"
          ]
        }
      ]
    }
  ]
}