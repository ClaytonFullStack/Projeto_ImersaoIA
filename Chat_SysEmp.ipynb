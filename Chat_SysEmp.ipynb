{
  "nbformat": 4,
  "nbformat_minor": 0,
  "metadata": {
    "colab": {
      "provenance": [],
      "authorship_tag": "ABX9TyORG9jPLntlk0BVPL2f+dWy",
      "include_colab_link": true
    },
    "kernelspec": {
      "name": "python3",
      "display_name": "Python 3"
    },
    "language_info": {
      "name": "python"
    }
  },
  "cells": [
    {
      "cell_type": "markdown",
      "metadata": {
        "id": "view-in-github",
        "colab_type": "text"
      },
      "source": [
        "<a href=\"https://colab.research.google.com/github/ClaytonFullStack/Projeto_ImersaoIA/blob/main/Chat_SysEmp.ipynb\" target=\"_parent\"><img src=\"https://colab.research.google.com/assets/colab-badge.svg\" alt=\"Open In Colab\"/></a>"
      ]
    },
    {
      "cell_type": "markdown",
      "source": [
        "Instale a biblioteca google-generativeai"
      ],
      "metadata": {
        "id": "01Hl3r_rcyVd"
      }
    },
    {
      "cell_type": "code",
      "execution_count": 5,
      "metadata": {
        "id": "hmvRL4pSckpH"
      },
      "outputs": [],
      "source": [
        "!pip install -q -U google-generativeai"
      ]
    },
    {
      "cell_type": "code",
      "source": [
        "!pip install flask"
      ],
      "metadata": {
        "id": "x9s85F08wbnw"
      },
      "execution_count": null,
      "outputs": []
    },
    {
      "cell_type": "markdown",
      "source": [
        "Configure a API Key:"
      ],
      "metadata": {
        "id": "B-S0wD6xdW6O"
      }
    },
    {
      "cell_type": "code",
      "source": [
        "import google.generativeai as genai\n",
        "from google.colab import userdata\n",
        "api_key = userdata.get('SECRET_KEY')\n",
        "genai.configure(api_key=api_key)"
      ],
      "metadata": {
        "id": "bPsXPGCnlfZW"
      },
      "execution_count": 6,
      "outputs": []
    },
    {
      "cell_type": "code",
      "source": [
        "# Configurações de geração\n",
        "generation_config = {\n",
        "    \"candidate_count\": 1,\n",
        "    \"temperature\": 0.5\n",
        "}"
      ],
      "metadata": {
        "id": "LZ0IpVn6ma5x"
      },
      "execution_count": 7,
      "outputs": []
    },
    {
      "cell_type": "code",
      "source": [
        "# Configurações de segurança\n",
        "safety_settings = {\n",
        "    \"HATE\": \"BLOCK_NONE\",\n",
        "    \"SEXUAL\": \"BLOCK_NONE\",\n",
        "    \"DANGEROUS\": \"BLOCK_NONE\"\n",
        "}"
      ],
      "metadata": {
        "id": "CBQMdEjtmdjB"
      },
      "execution_count": 8,
      "outputs": []
    },
    {
      "cell_type": "code",
      "source": [
        "# Listar os modelos disponíveis\n",
        "for m in genai.list_models():\n",
        "    if 'generateContent' in m.supported_generation_methods:\n",
        "        print(m.name)"
      ],
      "metadata": {
        "id": "iq2FD_-Ym95t"
      },
      "execution_count": null,
      "outputs": []
    },
    {
      "cell_type": "code",
      "source": [
        "model = genai.GenerativeModel(model_name='gemini-1.0-pro', generation_config=generation_config, safety_settings=safety_settings)"
      ],
      "metadata": {
        "id": "LPBE8gulmk5V"
      },
      "execution_count": 10,
      "outputs": []
    },
    {
      "cell_type": "code",
      "source": [
        "chat = model.start_chat(history=[])"
      ],
      "metadata": {
        "id": "dcdOp5RXmtix"
      },
      "execution_count": 11,
      "outputs": []
    },
    {
      "cell_type": "code",
      "source": [
        "# Treinamento do chatbot\n",
        "training_data = [\n",
        "    (\"Qual é o horário de funcionamento da loja?\", \"Nossa loja funciona de segunda a sexta, das 9h às 18h, e aos sábados das 9h às 13h.\"),\n",
        "    (\"Como faço para agendar um atendimento?\", \"Você pode agendar um atendimento ligando para o nosso número ou acessando o nosso site.\"),\n",
        "    (\"Quais são os produtos disponíveis para venda?\", \"Temos uma variedade de produtos disponíveis, incluindo eletrônicos, roupas, eletrodomésticos e muito mais. Você pode conferir o catálogo completo em nosso site.\"),\n",
        "    (\"Posso devolver um produto que comprei?\", \"Sim, você pode devolver um produto dentro do prazo estabelecido em nossa política de devolução. Entre em contato conosco para mais informações.\")\n",
        "]\n",
        "\n",
        "# Treinamento do modelo com os exemplos\n",
        "for question, answer in training_data:\n",
        "    response = model.generate_content(question)\n",
        "    print(\"Pergunta:\", question)\n",
        "    print(\"Resposta gerada pelo modelo:\", response.text)\n",
        "    print(\"Resposta esperada:\", answer)\n",
        "    print(\"----------------------------------\")"
      ],
      "metadata": {
        "id": "ipp19_CcqR_3"
      },
      "execution_count": null,
      "outputs": []
    },
    {
      "cell_type": "code",
      "source": [
        "prompt = input(\"Olá sou a SysLab, em que posso ajuda-lo: \")\n",
        "\n",
        "while prompt != \"fim\":\n",
        "  response = chat.send_message(prompt)\n",
        "  print(\"Resposta: \", response.text, \"\\n\")\n",
        "  print(\"----------------------------------\")\n",
        "  prompt = input(\"Mais alguma questão que posso ajuda-lo?: \")"
      ],
      "metadata": {
        "colab": {
          "base_uri": "https://localhost:8080/",
          "height": 384
        },
        "id": "GEmjklADnTce",
        "outputId": "f84c07f7-6565-43cb-cfbc-e5aa376f67cb"
      },
      "execution_count": 21,
      "outputs": [
        {
          "name": "stdout",
          "output_type": "stream",
          "text": [
            "Olá sou a SysLab, em que posso ajuda-lo: Qual o valor da TV Samsung?\n",
            "Resposta:  O valor de uma TV Samsung varia dependendo do modelo, tamanho, recursos e tecnologia de exibição. Aqui estão alguns exemplos de preços aproximados para diferentes modelos de TVs Samsung no Brasil em 27 de fevereiro de 2023:\n",
            "\n",
            "**Modelo:** | **Preço Aproximado**\n",
            "---|---|\n",
            "Samsung QN90B Neo QLED 4K 55\" (2022): | R$ 5.999,00\n",
            "Samsung QN85B Neo QLED 4K 65\" (2022): | R$ 7.999,00\n",
            "Samsung BU8000 Crystal UHD 4K 50\" (2022): | R$ 2.999,00\n",
            "Samsung AU7700 Crystal UHD 4K 65\" (2022): | R$ 3.999,00\n",
            "Samsung The Frame LS03B QLED 4K 55\" (2022): | R$ 6.999,00\n",
            "\n",
            "**Observações:**\n",
            "\n",
            "* Os preços podem variar dependendo do varejista e de promoções ou descontos.\n",
            "* Modelos mais recentes ou com tamanhos de tela maiores geralmente custam mais.\n",
            "* Tecnologias de exibição mais avançadas, como QLED e OLED, também afetam o preço.\n",
            "* É recomendável verificar com varejistas específicos para obter os preços mais atualizados e precisos. \n",
            "\n",
            "----------------------------------\n",
            "Mais alguma questão que posso ajuda-lo?: fim\n"
          ]
        }
      ]
    },
    {
      "cell_type": "code",
      "execution_count": 22,
      "metadata": {
        "id": "dAcbPBocgzeX",
        "colab": {
          "base_uri": "https://localhost:8080/",
          "height": 1000
        },
        "outputId": "3330b9da-f821-4ee7-9a34-a66009c1bd08"
      },
      "outputs": [
        {
          "output_type": "display_data",
          "data": {
            "text/plain": [
              "<IPython.core.display.Markdown object>"
            ],
            "text/markdown": "> **user**: Qual o valor de um PS5?"
          },
          "metadata": {}
        },
        {
          "output_type": "stream",
          "name": "stdout",
          "text": [
            "-------------------------------------------\n"
          ]
        },
        {
          "output_type": "display_data",
          "data": {
            "text/plain": [
              "<IPython.core.display.Markdown object>"
            ],
            "text/markdown": "> **model**: O valor de um PS5 varia dependendo da região e do modelo específico:\n> \n> **Modelo Padrão:**\n> \n> * **Brasil:** R$ 4.499,90\n> * **Estados Unidos:** US$ 499,99\n> * **Europa:** € 499,99\n> \n> **Modelo Digital:**\n> \n> * **Brasil:** R$ 3.999,90\n> * **Estados Unidos:** US$ 399,99\n> * **Europa:** € 399,99\n> \n> **Pacotes:**\n> \n> Os pacotes do PS5, que incluem o console e jogos ou acessórios, podem variar em preço.\n> \n> **Observações:**\n> \n> * Os preços estão sujeitos a alterações com o tempo.\n> * Alguns varejistas podem oferecer descontos ou promoções.\n> * O estoque pode ser limitado em algumas regiões."
          },
          "metadata": {}
        },
        {
          "output_type": "stream",
          "name": "stdout",
          "text": [
            "-------------------------------------------\n"
          ]
        },
        {
          "output_type": "display_data",
          "data": {
            "text/plain": [
              "<IPython.core.display.Markdown object>"
            ],
            "text/markdown": "> **user**: qual o horario de funcionamento da loja Ponto Frio em Guarulhos?"
          },
          "metadata": {}
        },
        {
          "output_type": "stream",
          "name": "stdout",
          "text": [
            "-------------------------------------------\n"
          ]
        },
        {
          "output_type": "display_data",
          "data": {
            "text/plain": [
              "<IPython.core.display.Markdown object>"
            ],
            "text/markdown": "> **model**: **Horário de funcionamento da loja Ponto Frio em Guarulhos:**\n> \n> **Segunda a sábado:** 09h às 22h\n> **Domingos e feriados:** 10h às 20h\n> \n> **Endereço:** Av. Tiradentes, 1995 - Vila Augusta, Guarulhos - SP, 07110-001\n> \n> **Telefone:** (11) 2408-5000\n> \n> **Observações:**\n> \n> * O horário de funcionamento pode variar em feriados ou datas especiais.\n> * É recomendável entrar em contato com a loja antes de visitá-la para confirmar o horário de funcionamento."
          },
          "metadata": {}
        },
        {
          "output_type": "stream",
          "name": "stdout",
          "text": [
            "-------------------------------------------\n"
          ]
        },
        {
          "output_type": "display_data",
          "data": {
            "text/plain": [
              "<IPython.core.display.Markdown object>"
            ],
            "text/markdown": "> **user**: Qual o valor do PS5?"
          },
          "metadata": {}
        },
        {
          "output_type": "stream",
          "name": "stdout",
          "text": [
            "-------------------------------------------\n"
          ]
        },
        {
          "output_type": "display_data",
          "data": {
            "text/plain": [
              "<IPython.core.display.Markdown object>"
            ],
            "text/markdown": "> **model**: **Valor do PS5 em 27 de fevereiro de 2023:**\n> \n> **Modelo Padrão:**\n> \n> * **Brasil:** R$ 4.499,90\n> * **Estados Unidos:** US$ 499,99\n> * **Europa:** € 499,99\n> \n> **Modelo Digital:**\n> \n> * **Brasil:** R$ 3.999,90\n> * **Estados Unidos:** US$ 399,99\n> * **Europa:** € 399,99\n> \n> **Pacotes:**\n> \n> Os pacotes do PS5, que incluem o console e jogos ou acessórios, podem variar em preço.\n> \n> **Observações:**\n> \n> * Os preços estão sujeitos a alterações com o tempo.\n> * Alguns varejistas podem oferecer descontos ou promoções.\n> * O estoque pode ser limitado em algumas regiões."
          },
          "metadata": {}
        },
        {
          "output_type": "stream",
          "name": "stdout",
          "text": [
            "-------------------------------------------\n"
          ]
        },
        {
          "output_type": "display_data",
          "data": {
            "text/plain": [
              "<IPython.core.display.Markdown object>"
            ],
            "text/markdown": "> **user**: Qual os produtos disponiveis para venda?"
          },
          "metadata": {}
        },
        {
          "output_type": "stream",
          "name": "stdout",
          "text": [
            "-------------------------------------------\n"
          ]
        },
        {
          "output_type": "display_data",
          "data": {
            "text/plain": [
              "<IPython.core.display.Markdown object>"
            ],
            "text/markdown": "> **model**: A disponibilidade de produtos para venda varia dependendo da loja ou plataforma específica. No entanto, alguns produtos comuns disponíveis para venda incluem:\n> \n> **Produtos eletrônicos:**\n> \n> * Smartphones\n> * Notebooks\n> * Tablets\n> * TVs\n> * Consoles de videogame\n> * Fones de ouvido\n> * Smartwatches\n> \n> **Eletrodomésticos:**\n> \n> * Geladeiras\n> * Fogões\n> * Máquinas de lavar\n> * Secadoras\n> * Ar-condicionados\n> * Micro-ondas\n> \n> **Móveis:**\n> \n> * Sofás\n> * Camas\n> * Mesas\n> * Cadeiras\n> * Armários\n> \n> **Produtos de beleza e higiene pessoal:**\n> \n> * Maquiagem\n> * Cremes para a pele\n> * Perfumes\n> * Shampoos\n> * Condicionadores\n> \n> **Roupas e acessórios:**\n> \n> * Camisetas\n> * Calças\n> * Vestidos\n> * Sapatos\n> * Bolsas\n> \n> **Produtos alimentícios:**\n> \n> * Comida fresca\n> * Comida congelada\n> * Bebidas\n> * Lanches\n> \n> **Outros produtos:**\n> \n> * Livros\n> * Brinquedos\n> * Material de escritório\n> * Ferramentas\n> * Artigos esportivos\n> \n> **Observações:**\n> \n> * A disponibilidade de produtos específicos pode variar dependendo da localização, época do ano e demanda.\n> * Alguns produtos podem estar disponíveis apenas online ou em lojas físicas específicas."
          },
          "metadata": {}
        },
        {
          "output_type": "stream",
          "name": "stdout",
          "text": [
            "-------------------------------------------\n"
          ]
        },
        {
          "output_type": "display_data",
          "data": {
            "text/plain": [
              "<IPython.core.display.Markdown object>"
            ],
            "text/markdown": "> **user**: Qual valor no notebook da samsung?"
          },
          "metadata": {}
        },
        {
          "output_type": "stream",
          "name": "stdout",
          "text": [
            "-------------------------------------------\n"
          ]
        },
        {
          "output_type": "display_data",
          "data": {
            "text/plain": [
              "<IPython.core.display.Markdown object>"
            ],
            "text/markdown": "> **model**: O valor de um notebook da Samsung varia dependendo do modelo, especificações e recursos. Aqui estão alguns exemplos de preços aproximados para diferentes modelos de notebooks Samsung no Brasil em 27 de fevereiro de 2023:\n> \n> **Modelo:** | **Preço Aproximado**\n> ---|---|\n> Samsung Galaxy Book Pro 360 15,6\" (i5, 8GB RAM, 512GB SSD): | R$ 6.999,00\n> Samsung Galaxy Book2 Pro 360 15,6\" (i7, 16GB RAM, 1TB SSD): | R$ 12.999,00\n> Samsung Book Go NP340XNA-KA1BR (Celeron, 4GB RAM, 128GB SSD): | R$ 2.499,00\n> Samsung Book E30 NP300E5M-KD2BR (i3, 8GB RAM, 256GB SSD): | R$ 3.999,00\n> Samsung Odyssey Z5H NP950XFH-KH1BR (i9, 32GB RAM, 1TB SSD, RTX 3060): | R$ 19.999,00\n> \n> **Observações:**\n> \n> * Os preços podem variar dependendo do varejista e de promoções ou descontos.\n> * Modelos mais recentes ou com especificações mais avançadas geralmente custam mais.\n> * É recomendável verificar com varejistas específicos para obter os preços mais atualizados e precisos."
          },
          "metadata": {}
        },
        {
          "output_type": "stream",
          "name": "stdout",
          "text": [
            "-------------------------------------------\n"
          ]
        },
        {
          "output_type": "display_data",
          "data": {
            "text/plain": [
              "<IPython.core.display.Markdown object>"
            ],
            "text/markdown": "> **user**: Qual o valor da TV Samsung?"
          },
          "metadata": {}
        },
        {
          "output_type": "stream",
          "name": "stdout",
          "text": [
            "-------------------------------------------\n"
          ]
        },
        {
          "output_type": "display_data",
          "data": {
            "text/plain": [
              "<IPython.core.display.Markdown object>"
            ],
            "text/markdown": "> **model**: O valor de uma TV Samsung varia dependendo do modelo, tamanho, recursos e tecnologia de exibição. Aqui estão alguns exemplos de preços aproximados para diferentes modelos de TVs Samsung no Brasil em 27 de fevereiro de 2023:\n> \n> **Modelo:** | **Preço Aproximado**\n> ---|---|\n> Samsung QN90B Neo QLED 4K 55\" (2022): | R$ 5.999,00\n> Samsung QN85B Neo QLED 4K 65\" (2022): | R$ 7.999,00\n> Samsung BU8000 Crystal UHD 4K 50\" (2022): | R$ 2.999,00\n> Samsung AU7700 Crystal UHD 4K 65\" (2022): | R$ 3.999,00\n> Samsung The Frame LS03B QLED 4K 55\" (2022): | R$ 6.999,00\n> \n> **Observações:**\n> \n> * Os preços podem variar dependendo do varejista e de promoções ou descontos.\n> * Modelos mais recentes ou com tamanhos de tela maiores geralmente custam mais.\n> * Tecnologias de exibição mais avançadas, como QLED e OLED, também afetam o preço.\n> * É recomendável verificar com varejistas específicos para obter os preços mais atualizados e precisos."
          },
          "metadata": {}
        },
        {
          "output_type": "stream",
          "name": "stdout",
          "text": [
            "-------------------------------------------\n"
          ]
        },
        {
          "output_type": "display_data",
          "data": {
            "text/plain": [
              "<IPython.core.display.Markdown object>"
            ],
            "text/markdown": "> **user**: Qual o valor da TV Samsung?"
          },
          "metadata": {}
        },
        {
          "output_type": "stream",
          "name": "stdout",
          "text": [
            "-------------------------------------------\n"
          ]
        },
        {
          "output_type": "display_data",
          "data": {
            "text/plain": [
              "<IPython.core.display.Markdown object>"
            ],
            "text/markdown": "> **model**: O valor de uma TV Samsung varia dependendo do modelo, tamanho, recursos e tecnologia de exibição. Aqui estão alguns exemplos de preços aproximados para diferentes modelos de TVs Samsung no Brasil em 27 de fevereiro de 2023:\n> \n> **Modelo:** | **Preço Aproximado**\n> ---|---|\n> Samsung QN90B Neo QLED 4K 55\" (2022): | R$ 5.999,00\n> Samsung QN85B Neo QLED 4K 65\" (2022): | R$ 7.999,00\n> Samsung BU8000 Crystal UHD 4K 50\" (2022): | R$ 2.999,00\n> Samsung AU7700 Crystal UHD 4K 65\" (2022): | R$ 3.999,00\n> Samsung The Frame LS03B QLED 4K 55\" (2022): | R$ 6.999,00\n> \n> **Observações:**\n> \n> * Os preços podem variar dependendo do varejista e de promoções ou descontos.\n> * Modelos mais recentes ou com tamanhos de tela maiores geralmente custam mais.\n> * Tecnologias de exibição mais avançadas, como QLED e OLED, também afetam o preço.\n> * É recomendável verificar com varejistas específicos para obter os preços mais atualizados e precisos."
          },
          "metadata": {}
        },
        {
          "output_type": "stream",
          "name": "stdout",
          "text": [
            "-------------------------------------------\n"
          ]
        }
      ],
      "source": [
        "import textwrap\n",
        "from IPython.display import display\n",
        "from IPython.display import Markdown\n",
        "\n",
        "def to_markdown(text):\n",
        "  text = text.replace('•', '  *')\n",
        "  return Markdown(textwrap.indent(text, '> ', predicate=lambda _: True))\n",
        "\n",
        "#Imprimindo o histórico\n",
        "for message in chat.history:\n",
        "  display(to_markdown(f'**{message.role}**: {message.parts[0].text}'))\n",
        "  print('-------------------------------------------')"
      ]
    }
  ]
}